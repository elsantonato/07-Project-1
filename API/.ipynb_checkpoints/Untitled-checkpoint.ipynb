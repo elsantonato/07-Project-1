{
 "cells": [
  {
   "cell_type": "code",
   "execution_count": null,
   "metadata": {},
   "outputs": [],
   "source": [
    "# Import Dependencies\n",
    "import pandas as pd\n",
    "\n",
    "# Make a reference to the books.csv file path\n",
    "file_one=\"Resources/books.csv\"\n",
    "\n",
    "# Import the books.csv file as a DataFrame\n",
    "file_one_df=pd.read_csv(file_one, encoding=\"ISO-8859-1\")\n",
    "\n",
    "#Show just the header+5 lines\n",
    "file_one_df.head()"
   ]
  }
 ],
 "metadata": {
  "kernelspec": {
   "display_name": "Python 3",
   "language": "python",
   "name": "python3"
  },
  "language_info": {
   "codemirror_mode": {
    "name": "ipython",
    "version": 3
   },
   "file_extension": ".py",
   "mimetype": "text/x-python",
   "name": "python",
   "nbconvert_exporter": "python",
   "pygments_lexer": "ipython3",
   "version": "3.7.0"
  }
 },
 "nbformat": 4,
 "nbformat_minor": 2
}
