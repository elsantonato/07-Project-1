{
 "cells": [
  {
   "cell_type": "code",
   "execution_count": 6,
   "metadata": {},
   "outputs": [
    {
     "data": {
      "text/plain": [
       "0                                      Population, 2016\n",
       "1                                      Population, 2011\n",
       "2            Population percentage change, 2011 to 2016\n",
       "3                               Total private dwellings\n",
       "4         Private dwellings occupied by usual residents\n",
       "5               Population density per square kilometre\n",
       "6                        Land area in square kilometres\n",
       "7     Total - Age groups and average age of the popu...\n",
       "8                                         0 to 14 years\n",
       "9                                          0 to 4 years\n",
       "10                                         5 to 9 years\n",
       "11                                       10 to 14 years\n",
       "12                                       15 to 64 years\n",
       "13                                       15 to 19 years\n",
       "14                                       20 to 24 years\n",
       "15                                       25 to 29 years\n",
       "16                                       30 to 34 years\n",
       "17                                       35 to 39 years\n",
       "18                                       40 to 44 years\n",
       "19                                       45 to 49 years\n",
       "20                                       50 to 54 years\n",
       "21                                       55 to 59 years\n",
       "22                                       60 to 64 years\n",
       "23                                    65 years and over\n",
       "24                                       65 to 69 years\n",
       "25                                       70 to 74 years\n",
       "26                                       75 to 79 years\n",
       "27                                       80 to 84 years\n",
       "28                                    85 years and over\n",
       "29                                       85 to 89 years\n",
       "                            ...                        \n",
       "10                                         5 to 9 years\n",
       "11                                       10 to 14 years\n",
       "12                                       15 to 64 years\n",
       "13                                       15 to 19 years\n",
       "14                                       20 to 24 years\n",
       "15                                       25 to 29 years\n",
       "16                                       30 to 34 years\n",
       "17                                       35 to 39 years\n",
       "18                                       40 to 44 years\n",
       "19                                       45 to 49 years\n",
       "20                                       50 to 54 years\n",
       "21                                       55 to 59 years\n",
       "22                                       60 to 64 years\n",
       "23                                    65 years and over\n",
       "24                                       65 to 69 years\n",
       "25                                       70 to 74 years\n",
       "26                                       75 to 79 years\n",
       "27                                       80 to 84 years\n",
       "28                                    85 years and over\n",
       "29                                       85 to 89 years\n",
       "30                                       90 to 94 years\n",
       "31                                       95 to 99 years\n",
       "32                                   100 years and over\n",
       "33    Total - Distribution (%) of the population by ...\n",
       "34                                        0 to 14 years\n",
       "35                                       15 to 64 years\n",
       "36                                    65 years and over\n",
       "37                                    85 years and over\n",
       "38                        Average age of the population\n",
       "39                         Median age of the population\n",
       "Name: 10, Length: 560, dtype: object"
      ]
     },
     "execution_count": 6,
     "metadata": {},
     "output_type": "execute_result"
    }
   ],
   "source": [
    "import csv\n",
    "import json\n",
    "import matplotlib.pyplot as plt\n",
    "import requests\n",
    "import pandas as pd\n",
    "from pprint import pprint\n",
    "import numpy as np\n",
    "\n",
    "response = requests.get('https://www12.statcan.gc.ca/rest/census-recensement/CR2016Geo.json?lang=E&geos=PR&topic=1&&notes=0')\n",
    "\n",
    "b = json.loads(response.text[2:])\n",
    "#pprint(b['DATA'])\n",
    "prov = []\n",
    "dguid=[]\n",
    "for i in range((len(b['DATA']))):\n",
    "    prov.append(b['DATA'][i][2])\n",
    "    dguid.append(b['DATA'][i][0])\n",
    "\n",
    "province_dguid = pd.DataFrame({'Province':prov,'dguid':dguid})\n",
    "province_dguid\n",
    "\n",
    "population = pd.DataFrame()\n",
    "for id in province_dguid['dguid']:\n",
    "    response2 = requests.get('https://www12.statcan.gc.ca/rest/census-recensement/CPR2016.json?lang=E&dguid='+id+'&topic=13&&notes=0')\n",
    "    b2 = json.loads(response2.text[2:])\n",
    "    #pprint(b2['DATA'])\n",
    "    population = population.append(b2['DATA'])\n",
    "\n",
    "population[10]\n"
   ]
  },
  {
   "cell_type": "code",
   "execution_count": 7,
   "metadata": {},
   "outputs": [],
   "source": [
    "population.to_csv(\"clean.csv\",encoding=\"utf-8\", index=False, header=True)"
   ]
  }
 ],
 "metadata": {
  "kernelspec": {
   "display_name": "Python 3",
   "language": "python",
   "name": "python3"
  },
  "language_info": {
   "codemirror_mode": {
    "name": "ipython",
    "version": 3
   },
   "file_extension": ".py",
   "mimetype": "text/x-python",
   "name": "python",
   "nbconvert_exporter": "python",
   "pygments_lexer": "ipython3",
   "version": "3.7.0"
  }
 },
 "nbformat": 4,
 "nbformat_minor": 2
}
