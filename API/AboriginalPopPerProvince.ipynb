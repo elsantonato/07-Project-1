{
 "cells": [
  {
   "cell_type": "code",
   "execution_count": 2,
   "metadata": {},
   "outputs": [],
   "source": [
    "import csv\n",
    "import json\n",
    "import matplotlib.pyplot as plt\n",
    "import requests\n",
    "import pandas as pd\n",
    "from pprint import pprint\n",
    "import numpy as np\n",
    "\n",
    "response = requests.get('https://www12.statcan.gc.ca/rest/census-recensement/CR2016Geo.json?lang=E&geos=PR&topic=2&&notes=0')\n",
    "\n",
    "b = json.loads(response.text[2:])\n",
    "#pprint(b['DATA'])\n",
    "\n",
    "prov = []\n",
    "dguid=[]\n",
    "for i in range((len(b['DATA']))):\n",
    "    prov.append(b['DATA'][i][2])\n",
    "    dguid.append(b['DATA'][i][0])\n",
    "\n",
    "province_dguid = pd.DataFrame({'Province':prov,'dguid':dguid})\n",
    "province_dguid\n",
    "\n",
    "aboriginal = pd.DataFrame()\n",
    "for id in province_dguid['dguid']:\n",
    "    response2 = requests.get('https://www12.statcan.gc.ca/rest/census-recensement/CPR2016.json?lang=E&dguid='+id+'&topic=1&&notes=0')\n",
    "    b2 = json.loads(response2.text[2:])\n",
    "    #pprint(b2['DATA'])\n",
    "    aboriginal = aboriginal.append(b2['DATA'])\n",
    "    \n",
    "#aboriginal"
   ]
  },
  {
   "cell_type": "code",
   "execution_count": 3,
   "metadata": {},
   "outputs": [
    {
     "ename": "NameError",
     "evalue": "name 'aboriginal_f' is not defined",
     "output_type": "error",
     "traceback": [
      "\u001b[1;31m---------------------------------------------------------------------------\u001b[0m",
      "\u001b[1;31mNameError\u001b[0m                                 Traceback (most recent call last)",
      "\u001b[1;32m<ipython-input-3-261c5c722c65>\u001b[0m in \u001b[0;36m<module>\u001b[1;34m()\u001b[0m\n\u001b[0;32m      3\u001b[0m \u001b[0maboriginal_a\u001b[0m \u001b[1;33m=\u001b[0m \u001b[0maboriginal\u001b[0m\u001b[1;33m[\u001b[0m\u001b[0maboriginal\u001b[0m\u001b[1;33m[\u001b[0m\u001b[1;36m10\u001b[0m\u001b[1;33m]\u001b[0m\u001b[1;33m.\u001b[0m\u001b[0mstr\u001b[0m\u001b[1;33m.\u001b[0m\u001b[0mcontains\u001b[0m\u001b[1;33m(\u001b[0m\u001b[1;34m'  Aboriginal identity'\u001b[0m\u001b[1;33m)\u001b[0m\u001b[1;33m]\u001b[0m\u001b[1;33m\u001b[0m\u001b[0m\n\u001b[0;32m      4\u001b[0m \u001b[0maboriginal_n\u001b[0m \u001b[1;33m=\u001b[0m \u001b[0maboriginal\u001b[0m\u001b[1;33m[\u001b[0m\u001b[0maboriginal\u001b[0m\u001b[1;33m[\u001b[0m\u001b[1;36m10\u001b[0m\u001b[1;33m]\u001b[0m\u001b[1;33m.\u001b[0m\u001b[0mstr\u001b[0m\u001b[1;33m.\u001b[0m\u001b[0mcontains\u001b[0m\u001b[1;33m(\u001b[0m\u001b[1;34m'  Non-Aboriginal identity'\u001b[0m\u001b[1;33m)\u001b[0m\u001b[1;33m]\u001b[0m\u001b[1;33m\u001b[0m\u001b[0m\n\u001b[1;32m----> 5\u001b[1;33m \u001b[0mabo1\u001b[0m \u001b[1;33m=\u001b[0m \u001b[0mpd\u001b[0m\u001b[1;33m.\u001b[0m\u001b[0mDataFrame\u001b[0m\u001b[1;33m(\u001b[0m\u001b[1;33m{\u001b[0m\u001b[1;34m'Provinces'\u001b[0m\u001b[1;33m:\u001b[0m\u001b[0maboriginal_t\u001b[0m\u001b[1;33m[\u001b[0m\u001b[1;36m1\u001b[0m\u001b[1;33m]\u001b[0m\u001b[1;33m,\u001b[0m\u001b[1;34m'Total'\u001b[0m\u001b[1;33m:\u001b[0m\u001b[0maboriginal_f\u001b[0m\u001b[1;33m[\u001b[0m\u001b[1;36m13\u001b[0m\u001b[1;33m]\u001b[0m\u001b[1;33m}\u001b[0m\u001b[1;33m)\u001b[0m\u001b[1;33m.\u001b[0m\u001b[0mset_index\u001b[0m\u001b[1;33m(\u001b[0m\u001b[1;34m'Provinces'\u001b[0m\u001b[1;33m)\u001b[0m\u001b[1;33m\u001b[0m\u001b[0m\n\u001b[0m\u001b[0;32m      6\u001b[0m \u001b[0mabo2\u001b[0m \u001b[1;33m=\u001b[0m \u001b[0mpd\u001b[0m\u001b[1;33m.\u001b[0m\u001b[0mDataFrame\u001b[0m\u001b[1;33m(\u001b[0m\u001b[1;33m{\u001b[0m\u001b[1;34m'Provinces'\u001b[0m\u001b[1;33m:\u001b[0m\u001b[0maboriginal_a\u001b[0m\u001b[1;33m[\u001b[0m\u001b[1;36m1\u001b[0m\u001b[1;33m]\u001b[0m\u001b[1;33m,\u001b[0m\u001b[1;34m'Aboriginal'\u001b[0m\u001b[1;33m:\u001b[0m\u001b[0maboriginal_a\u001b[0m\u001b[1;33m[\u001b[0m\u001b[1;36m13\u001b[0m\u001b[1;33m]\u001b[0m\u001b[1;33m}\u001b[0m\u001b[1;33m)\u001b[0m\u001b[1;33m.\u001b[0m\u001b[0mset_index\u001b[0m\u001b[1;33m(\u001b[0m\u001b[1;34m'Provinces'\u001b[0m\u001b[1;33m)\u001b[0m\u001b[1;33m\u001b[0m\u001b[0m\n\u001b[0;32m      7\u001b[0m \u001b[0mabo3\u001b[0m \u001b[1;33m=\u001b[0m \u001b[0mpd\u001b[0m\u001b[1;33m.\u001b[0m\u001b[0mDataFrame\u001b[0m\u001b[1;33m(\u001b[0m\u001b[1;33m{\u001b[0m\u001b[1;34m'Provinces'\u001b[0m\u001b[1;33m:\u001b[0m\u001b[0maboriginal_n\u001b[0m\u001b[1;33m[\u001b[0m\u001b[1;36m1\u001b[0m\u001b[1;33m]\u001b[0m\u001b[1;33m,\u001b[0m\u001b[1;34m'Non-aboriginal'\u001b[0m\u001b[1;33m:\u001b[0m\u001b[0maboriginal_n\u001b[0m\u001b[1;33m[\u001b[0m\u001b[1;36m13\u001b[0m\u001b[1;33m]\u001b[0m\u001b[1;33m}\u001b[0m\u001b[1;33m)\u001b[0m\u001b[1;33m.\u001b[0m\u001b[0mset_index\u001b[0m\u001b[1;33m(\u001b[0m\u001b[1;34m'Provinces'\u001b[0m\u001b[1;33m)\u001b[0m\u001b[1;33m\u001b[0m\u001b[0m\n",
      "\u001b[1;31mNameError\u001b[0m: name 'aboriginal_f' is not defined"
     ]
    }
   ],
   "source": [
    "#abo = aboriginal.filter(items=['Total - Aboriginal identity for the population in private households - 25% sample data'])\n",
    "aboriginal_t = aboriginal[aboriginal[10].str.contains('Total - Aboriginal identity for the population in private households - 25% sample data')]\n",
    "aboriginal_a = aboriginal[aboriginal[10].str.contains('  Aboriginal identity')]\n",
    "aboriginal_n = aboriginal[aboriginal[10].str.contains('  Non-Aboriginal identity')]\n",
    "abo1 = pd.DataFrame({'Provinces':aboriginal_t[1],'Total':aboriginal_f[13]}).set_index('Provinces')\n",
    "abo2 = pd.DataFrame({'Provinces':aboriginal_a[1],'Aboriginal':aboriginal_a[13]}).set_index('Provinces')\n",
    "abo3 = pd.DataFrame({'Provinces':aboriginal_n[1],'Non-aboriginal':aboriginal_n[13]}).set_index('Provinces')\n",
    "abo = pd.merge(abo1,abo2, on='Provinces')\n",
    "abo = pd.merge(abo,abo3, on='Provinces')\n",
    "abo['Aboriginal %'] = 100 * (abo['Aboriginal']/abo['Total'])\n",
    "abo['Non-aboriginal %'] = 100 * (abo['Non-aboriginal']/abo['Total'])\n",
    "abo"
   ]
  },
  {
   "cell_type": "code",
   "execution_count": 1,
   "metadata": {},
   "outputs": [
    {
     "ename": "NameError",
     "evalue": "name 'aboriginal' is not defined",
     "output_type": "error",
     "traceback": [
      "\u001b[1;31m---------------------------------------------------------------------------\u001b[0m",
      "\u001b[1;31mNameError\u001b[0m                                 Traceback (most recent call last)",
      "\u001b[1;32m<ipython-input-1-48dd5914bbab>\u001b[0m in \u001b[0;36m<module>\u001b[1;34m()\u001b[0m\n\u001b[1;32m----> 1\u001b[1;33m \u001b[0maboriginal\u001b[0m\u001b[1;33m.\u001b[0m\u001b[0mto_csv\u001b[0m\u001b[1;33m(\u001b[0m\u001b[1;34m\"Aboriginal Population Per Province.csv\"\u001b[0m\u001b[1;33m,\u001b[0m\u001b[0mencoding\u001b[0m\u001b[1;33m=\u001b[0m\u001b[1;34m\"utf-8\"\u001b[0m\u001b[1;33m,\u001b[0m \u001b[0mindex\u001b[0m\u001b[1;33m=\u001b[0m\u001b[1;32mFalse\u001b[0m\u001b[1;33m,\u001b[0m \u001b[0mheader\u001b[0m\u001b[1;33m=\u001b[0m\u001b[1;32mTrue\u001b[0m\u001b[1;33m)\u001b[0m\u001b[1;33m\u001b[0m\u001b[0m\n\u001b[0m",
      "\u001b[1;31mNameError\u001b[0m: name 'aboriginal' is not defined"
     ]
    }
   ],
   "source": [
    "aboriginal.to_csv(\"Aboriginal Population Per Province.csv\",encoding=\"utf-8\", index=False, header=True)"
   ]
  }
 ],
 "metadata": {
  "kernelspec": {
   "display_name": "Python 3",
   "language": "python",
   "name": "python3"
  },
  "language_info": {
   "codemirror_mode": {
    "name": "ipython",
    "version": 3
   },
   "file_extension": ".py",
   "mimetype": "text/x-python",
   "name": "python",
   "nbconvert_exporter": "python",
   "pygments_lexer": "ipython3",
   "version": "3.7.0"
  }
 },
 "nbformat": 4,
 "nbformat_minor": 2
}
