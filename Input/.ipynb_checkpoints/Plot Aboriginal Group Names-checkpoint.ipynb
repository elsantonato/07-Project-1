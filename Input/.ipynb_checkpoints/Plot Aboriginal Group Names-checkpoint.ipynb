{
 "cells": [
  {
   "cell_type": "code",
   "execution_count": 40,
   "metadata": {},
   "outputs": [
    {
     "data": {
      "text/plain": [
       "\" Abenaki Abenaki Abenaki Abenaki Abenaki Abenaki Abenaki Abenaki Abenaki Abenaki Algonquin Algonquin Algonquin Algonquin Algonquin Algonquin Algonquin Algonquin Algonquin Algonquin Algonquin Algonquin Algonquin Algonquin Algonquin Algonquin Algonquin Algonquin Algonquin Algonquin Algonquin Algonquin Algonquin Algonquin Algonquin Algonquin Algonquin Algonquin Algonquin Algonquin Algonquin Algonquin Algonquin Algonquin Algonquin Algonquin Algonquin Algonquin Algonquin Algonquin Algonquin Anishinaabe Anishinaabe Anishinaabe Anishinaabe Anishinaabe Apache Assiniboine Assiniboine Atikamekw Atikamekw Atikamekw Atikamekw Atikamekw Atikamekw Atikamekw Atikamekw Atikamekw Beaver Beaver Blackfoot Blackfoot Blackfoot Blackfoot Blackfoot Blackfoot Blackfoot Blackfoot Blackfoot Blackfoot Blackfoot Blackfoot Blackfoot Blackfoot Blackfoot Blackfoot Blackfoot Blackfoot Blackfoot Blackfoot Blackfoot Blackfoot Blackfoot Blood Carrier Carrier Carrier Carrier Carrier Carrier Carrier Carrier Cayuga Cherokee Cherokee Cherokee Cherokee Cherokee Cherokee Cherokee Cherokee Cherokee Cherokee Cherokee Cherokee Chilcotin Chilcotin Chilcotin Chipewyan Chipewyan Chipewyan Chipewyan Cowichan Cowichan Cree Cree Cree Cree Cree Cree Cree Cree Cree Cree Cree Cree Cree Cree Cree Cree Cree Cree Cree Cree Cree Cree Cree Cree Cree Cree Cree Cree Cree Cree Cree Cree Cree Cree Cree Cree Cree Cree Cree Cree Cree Cree Cree Cree Cree Cree Cree Cree Cree Cree Cree Cree Cree Cree Cree Cree Cree Cree Cree Cree Cree Cree Cree Cree Cree Cree Cree Cree Cree Cree Cree Cree Cree Cree Cree Cree Cree Cree Cree Cree Cree Cree Cree Cree Cree Cree Cree Cree Cree Cree Cree Cree Cree Cree Cree Cree Cree Cree Cree Cree Cree Cree Cree Cree Cree Cree Cree Cree Cree Cree Cree Cree Cree Cree Cree Cree Cree Cree Cree Cree Cree Cree Cree Cree Cree Cree Cree Cree Cree Cree Cree Cree Cree Cree Cree Cree Cree Cree Cree Cree Cree Cree Cree Cree Cree Cree Cree Cree Cree Cree Cree Cree Cree Cree Cree Cree Cree Cree Cree Cree Cree Cree Cree Cree Cree Cree Cree Cree Cree Cree Cree Cree Cree Cree Cree Cree Cree Cree Cree Cree Cree Cree Cree Cree Cree Cree Cree Cree Cree Cree Cree Cree Cree Cree Cree Cree Cree Cree Cree Cree Cree Cree Cree Cree Cree Cree Cree Cree Cree Cree Cree Cree Cree Cree Cree Cree Cree Cree Cree Cree Cree Cree Cree Cree Cree Cree Cree Cree Cree Cree Cree Cree Cree Cree Cree Cree Cree Cree Cree Cree Cree Cree Cree Cree Cree Cree Cree Cree Cree Cree Cree Cree Cree Cree Cree Cree Cree Cree Cree Cree Cree Cree Cree Cree Cree Cree Cree Cree Cree Cree Cree Cree Cree Cree Cree Cree Cree Cree Cree Cree Cree Cree Cree Cree Cree Cree Cree Cree Cree Cree Cree Cree Cree Cree Cree Cree Cree Cree Cree Cree Cree Cree Cree Cree Cree Cree Cree Cree Cree Cree Cree Cree Cree Cree Cree Cree Cree Cree Cree Cree Cree Cree Cree Cree Cree Cree Cree Cree Cree Cree Cree Cree Cree Cree Cree Cree Cree Cree Cree Cree Cree Cree Cree Cree Cree Cree Cree Cree Cree Cree Cree Cree Cree Cree Cree Cree Cree Dakota Dakota Dakota Dakota Dakota Dakota Delaware Delaware Dene Dene Dene Dene Dene Dene Dene Dene Dene Dene Dene Dene Dene Dene Dene Dene Dene Dene Dene Dene Dene Dene Dene Dene Dene Dene Dene Dene Dene Dene Dene Gitxsan Gitxsan Gitxsan Gitxsan Gitxsan Gitxsan Gwich'in Gwich'in Gwich'in Gwich'in Haida Haida Haida Haida Haida Haida Haisla Haisla Heiltsuk Heiltsuk Huron Huron Huron Huron Huron Huron Huron Huron Huron Huron Huron Huron Huron Huron Huron Innu/Montagnais Innu/Montagnais Innu/Montagnais Innu/Montagnais Innu/Montagnais Innu/Montagnais Innu/Montagnais Innu/Montagnais Innu/Montagnais Innu/Montagnais Innu/Montagnais Innu/Montagnais Innu/Montagnais Innu/Montagnais Innu/Montagnais Innu/Montagnais Innu/Montagnais Innu/Montagnais Innu/Montagnais Innu/Montagnais Innu/Montagnais Innu/Montagnais Innu/Montagnais Innu/Montagnais Innu/Montagnais Innu/Montagnais Innu/Montagnais Innu/Montagnais Iroquois Iroquois Iroquois Iroquois Iroquois Iroquois Iroquois Iroquois Iroquois Iroquois Iroquois Iroquois Iroquois Iroquois Iroquois Iroquois Iroquois Iroquois Iroquois Kaska Kaska Ktunaxa Kwakwaka'wakw Kwakwaka'wakw Kwakwaka'wakw Kwakwaka'wakw Lakota Maliseet Maliseet Maliseet Maliseet Maliseet Maliseet Maliseet Maliseet Mi'kmaq Mi'kmaq Mi'kmaq Mi'kmaq Mi'kmaq Mi'kmaq Mi'kmaq Mi'kmaq Mi'kmaq Mi'kmaq Mi'kmaq Mi'kmaq Mi'kmaq Mi'kmaq Mi'kmaq Mi'kmaq Mi'kmaq Mi'kmaq Mi'kmaq Mi'kmaq Mi'kmaq Mi'kmaq Mi'kmaq Mi'kmaq Mi'kmaq Mi'kmaq Mi'kmaq Mi'kmaq Mi'kmaq Mi'kmaq Mi'kmaq Mi'kmaq Mi'kmaq Mi'kmaq Mi'kmaq Mi'kmaq Mi'kmaq Mi'kmaq Mi'kmaq Mi'kmaq Mi'kmaq Mi'kmaq Mi'kmaq Mi'kmaq Mi'kmaq Mi'kmaq Mi'kmaq Mi'kmaq Mi'kmaq Mi'kmaq Mi'kmaq Mi'kmaq Mi'kmaq Mi'kmaq Mi'kmaq Mi'kmaq Mi'kmaq Mi'kmaq Mi'kmaq Mi'kmaq Mi'kmaq Mi'kmaq Mi'kmaq Mi'kmaq Mi'kmaq Mi'kmaq Mi'kmaq Mi'kmaq Mi'kmaq Mi'kmaq Mi'kmaq Mi'kmaq Mi'kmaq Mi'kmaq Mi'kmaq Mi'kmaq Mi'kmaq Mi'kmaq Mi'kmaq Mi'kmaq Mi'kmaq Mi'kmaq Mi'kmaq Mi'kmaq Mi'kmaq Mi'kmaq Mi'kmaq Mi'kmaq Mi'kmaq Mi'kmaq Mi'kmaq Mi'kmaq Mi'kmaq Mi'kmaq Mi'kmaq Mi'kmaq Mi'kmaq Mi'kmaq Mi'kmaq Mi'kmaq Mi'kmaq Mi'kmaq Mi'kmaq Mi'kmaq Mi'kmaq Mi'kmaq Mi'kmaq Mi'kmaq Mi'kmaq Mi'kmaq Mi'kmaq Mi'kmaq Mi'kmaq Mi'kmaq Mi'kmaq Mi'kmaq Mi'kmaq Mi'kmaq Mi'kmaq Mi'kmaq Mi'kmaq Mi'kmaq Mi'kmaq Mi'kmaq Mi'kmaq Mi'kmaq Mi'kmaq Mi'kmaq Mi'kmaq Mi'kmaq Mi'kmaq Mi'kmaq Mi'kmaq Mi'kmaq Mi'kmaq Mi'kmaq Mi'kmaq Mi'kmaq Mi'kmaq Mi'kmaq Mi'kmaq Mi'kmaq Mi'kmaq Mi'kmaq Mi'kmaq Mi'kmaq Mi'kmaq Mi'kmaq Mi'kmaq Mi'kmaq Mi'kmaq Mi'kmaq Mi'kmaq Mi'kmaq Mi'kmaq Mi'kmaq Mi'kmaq Mi'kmaq Mi'kmaq Mi'kmaq Mi'kmaq Mi'kmaq Mi'kmaq Mi'kmaq Mi'kmaq Mi'kmaq Mi'kmaq Mi'kmaq Mi'kmaq Mohawk Mohawk Mohawk Mohawk Mohawk Mohawk Mohawk Mohawk Mohawk Mohawk Mohawk Mohawk Mohawk Mohawk Mohawk Mohawk Mohawk Mohawk Mohawk Mohawk Mohawk Mohawk Mohawk Mohawk Mohawk Mohawk Mohawk Mohawk Mohawk Mohawk Mohawk Mohawk Mohawk Musqueam Naskapi Naskapi Navajo Nisga'a Nisga'a Nisga'a Nisga'a Nisga'a Nisga'a Nlaka'pamux Nlaka'pamux Nlaka'pamux Nlaka'pamux Nuu-chah-nulth Nuu-chah-nulth Nuu-chah-nulth Nuu-chah-nulth Nuu-chah-nulth Nuxalk Nuxalk Odawa Odawa Ojibway Ojibway Ojibway Ojibway Ojibway Ojibway Ojibway Ojibway Ojibway Ojibway Ojibway Ojibway Ojibway Ojibway Ojibway Ojibway Ojibway Ojibway Ojibway Ojibway Ojibway Ojibway Ojibway Ojibway Ojibway Ojibway Ojibway Ojibway Ojibway Ojibway Ojibway Ojibway Ojibway Ojibway Ojibway Ojibway Ojibway Ojibway Ojibway Ojibway Ojibway Ojibway Ojibway Ojibway Ojibway Ojibway Ojibway Ojibway Ojibway Ojibway Ojibway Ojibway Ojibway Ojibway Ojibway Ojibway Ojibway Ojibway Ojibway Ojibway Ojibway Ojibway Ojibway Ojibway Ojibway Ojibway Ojibway Ojibway Ojibway Ojibway Ojibway Ojibway Ojibway Ojibway Ojibway Ojibway Ojibway Ojibway Ojibway Ojibway Ojibway Ojibway Ojibway Ojibway Ojibway Ojibway Ojibway Ojibway Ojibway Ojibway Ojibway Ojibway Ojibway Ojibway Ojibway Ojibway Ojibway Ojibway Ojibway Ojibway Ojibway Ojibway Ojibway Ojibway Ojibway Ojibway Ojibway Ojibway Ojibway Ojibway Ojibway Ojibway Ojibway Ojibway Ojibway Ojibway Ojibway Ojibway Ojibway Ojibway Ojibway Ojibway Ojibway Ojibway Ojibway Ojibway Oji-Cree Oji-Cree Oji-Cree Oji-Cree Oji-Cree Oji-Cree Oji-Cree Oji-Cree Oji-Cree Oji-Cree Oji-Cree Oji-Cree Oji-Cree Oji-Cree Oji-Cree Oji-Cree Oji-Cree Oji-Cree Oji-Cree Okanagan Okanagan Okanagan Okanagan Oneida Oneida Potawatomi Potawatomi Potawatomi Sahtu Salish Salish Salish Salish Salish Salish Salish Salish Salish Salish Salish Salish Salish Salish Salish Salish Salish Salish Salish Salish Salish Salish Salish Saulteaux Saulteaux Saulteaux Saulteaux Saulteaux Saulteaux Saulteaux Saulteaux Saulteaux Saulteaux Saulteaux Saulteaux Saulteaux Saulteaux Saulteaux Saulteaux Saulteaux Saulteaux Saulteaux Sechelt Secwepemc Secwepemc Secwepemc Secwepemc Secwepemc Secwepemc Secwepemc Sekani Sekani Sioux Sioux Sioux Sioux Sioux Sioux Sioux Sioux Sioux Squamish Squamish St'at'imc St'at'imc St'at'imc Sto:lo Sto:lo Sto:lo Stoney Stoney Stoney Stoney Stoney Stoney Stoney Stoney Stoney Stoney Tahltan Tahltan Tahltan Tlicho Tlicho Tlingit Tlingit Tlingit Tsimshian Tsimshian Tsimshian Tsimshian Tsimshian Tsimshian Tsuu Tutchone Tutchone Tutchone Wet'suwet'en Wet'suwet'en Métis Métis Métis Métis Métis Métis Métis Métis Métis Métis Métis Métis Métis Métis Métis Métis Métis Métis Métis Métis Métis Métis Métis Métis Métis Métis Métis Métis Métis Métis Métis Métis Métis Métis Métis Métis Métis Métis Métis Métis Métis Métis Métis Métis Métis Métis Métis Métis Métis Métis Métis Métis Métis Métis Métis Métis Métis Métis Métis Métis Métis Métis Métis Métis Métis Métis Métis Métis Métis Métis Métis Métis Métis Métis Métis Métis Métis Métis Métis Métis Métis Métis Métis Métis Métis Métis Métis Métis Métis Métis Métis Métis Métis Métis Métis Métis Métis Métis Métis Métis Métis Métis Métis Métis Métis Métis Métis Métis Métis Métis Métis Métis Métis Métis Métis Métis Métis Métis Métis Métis Métis Métis Métis Métis Métis Métis Métis Métis Métis Métis Métis Métis Métis Métis Métis Métis Métis Métis Métis Métis Métis Métis Métis Métis Métis Métis Métis Métis Métis Métis Métis Métis Métis Métis Métis Métis Métis Métis Métis Métis Métis Métis Métis Métis Métis Métis Métis Métis Métis Métis Métis Métis Métis Métis Métis Métis Métis Métis Métis Métis Métis Métis Métis Métis Métis Métis Métis Métis Métis Métis Métis Métis Métis Métis Métis Métis Métis Métis Métis Métis Métis Métis Métis Métis Métis Métis Métis Métis Métis Métis Métis Métis Métis Métis Métis Métis Métis Métis Métis Métis Métis Métis Métis Métis Métis Métis Métis Métis Métis Métis Métis Métis Métis Métis Métis Métis Métis Métis Métis Métis Métis Métis Métis Métis Métis Métis Métis Métis Métis Métis Métis Métis Métis Métis Métis Métis Métis Métis Métis Métis Métis Métis Métis Métis Métis Métis Métis Métis Métis Métis Métis Métis Métis Métis Métis Métis Métis Métis Métis Métis Métis Métis Métis Métis Métis Métis Métis Métis Métis Métis Métis Métis Métis Métis Métis Métis Métis Métis Métis Métis Métis Métis Métis Métis Métis Métis Métis Métis Métis Métis Métis Métis Métis Métis Métis Métis Métis Métis Métis Métis Métis Métis Métis Métis Métis Métis Métis Métis Métis Métis Métis Métis Métis Métis Métis Métis Métis Métis Métis Métis Métis Métis Métis Métis Métis Métis Métis Métis Métis Métis Métis Métis Métis Métis Métis Métis Métis Métis Métis Métis Métis Métis Métis Métis Métis Métis Métis Métis Métis Métis Métis Métis Métis Métis Métis Métis Métis Métis Métis Métis Métis Métis Métis Métis Métis Métis Métis Métis Métis Métis Métis Métis Métis Métis Métis Métis Métis Métis Métis Métis Métis Métis Métis Métis Métis Métis Métis Métis Métis Métis Métis Métis Métis Métis Métis Métis Métis Métis Métis Métis Métis Métis Métis Métis Métis Métis Métis Métis Métis Métis Métis Métis Métis Métis Métis Métis Métis Métis Métis Métis Métis Métis Métis Métis Métis Métis Métis Métis Métis Métis Métis Métis Métis Métis Métis Métis Métis Métis Métis Métis Métis Métis Métis Métis Métis Métis Métis Métis Métis Métis Métis Métis Métis Métis Métis Métis Métis Métis Métis Métis Métis Métis Métis Métis Métis Métis Métis Métis Métis Métis Métis Métis Métis Métis Métis Métis Métis Métis Métis Métis Métis Métis Métis Métis Métis Métis Métis Métis Métis Métis Métis Métis Métis Métis Métis Métis Métis Métis Métis Métis Métis Métis Métis Métis Métis Métis Métis Métis Métis Métis Métis Métis Métis Métis Métis Métis Métis Métis Métis Métis Métis Métis Métis Métis Métis Métis Métis Métis Métis Métis Métis Métis Métis Métis Métis Métis Métis Métis Métis Métis Métis Métis Métis Métis Métis Métis Métis Métis Métis Métis Métis Métis Métis Métis Métis Métis Métis Métis Métis Métis Métis Métis Métis Métis Métis Métis Métis Métis Métis Métis Métis Métis Métis Métis Métis Métis Métis Métis Métis Métis Inuit Inuit Inuit Inuit Inuit Inuit Inuit Inuit Inuit Inuit Inuit Inuit Inuit Inuit Inuit Inuit Inuit Inuit Inuit Inuit Inuit Inuit Inuit Inuit Inuit Inuit Inuit Inuit Inuit Inuit Inuit Inuit Inuit Inuit Inuit Inuit Inuit Inuit Inuit Inuit Inuit Inuit Inuit Inuit Inuit Inuit Inuit Inuit Inuit Inuit Inuit Inuit Inuit Inuit Inuit Inuit Inuit Inuit Inuit Inuit Inuit Inuit Inuit Inuit Inuit Inuit Inuit Inuit Inuit Inuit Inuit Inuit Inuit Inuit Inuit Inuit Inuit Inuit Inuit Inuit\""
      ]
     },
     "execution_count": 40,
     "metadata": {},
     "output_type": "execute_result"
    }
   ],
   "source": [
    "import numpy as np\n",
    "import matplotlib.pyplot as plt\n",
    "import math\n",
    "import pandas as pd\n",
    "from PIL import Image\n",
    "from wordcloud import WordCloud, STOPWORDS\n",
    "\n",
    "text = ''\n",
    "names_csv = \"../API/Aboriginal Group Names.csv\"\n",
    "names = pd.read_csv(names_csv,encoding=\"ISO-8859-1\")\n",
    "names = names.drop([0,1,2,69,72])\n",
    "names = names.replace(',','',regex=True)\n",
    "names['Aboriginal ancestry responses (73)'] = names['Aboriginal ancestry responses (73)'].str.lstrip()\n",
    "for index, row in names.iterrows():\n",
    "#    j=0\n",
    "#    while row['Aboriginal ancestry responses (73)'].split(' ', 1)[j] == ' ':\n",
    "#        j+=1\n",
    "    for i in range(int(math.ceil(row['Total - Single and multiple Aboriginal ancestry responses [4]']/1000))):\n",
    "        text = text + ' ' + row['Aboriginal ancestry responses (73)'].split(' ', 1)[0]\n",
    "text"
   ]
  },
  {
   "cell_type": "markdown",
   "metadata": {},
   "source": []
  },
  {
   "cell_type": "code",
   "execution_count": null,
   "metadata": {},
   "outputs": [],
   "source": []
  },
  {
   "cell_type": "code",
   "execution_count": 42,
   "metadata": {},
   "outputs": [
    {
     "data": {
      "text/plain": [
       "<wordcloud.wordcloud.WordCloud at 0x29a529efcc0>"
      ]
     },
     "execution_count": 42,
     "metadata": {},
     "output_type": "execute_result"
    }
   ],
   "source": [
    "canada_mask = np.array(Image.open(\"canada-maple.jpg\"))\n",
    "wc = WordCloud(background_color=\"white\", mask=canada_mask, contour_width=2, contour_color='red')\n",
    "#wc.generate(text)\n",
    "wc.generate_from_frequencies()\n",
    "wc.to_file(\"../Output/Names.png\")"
   ]
  }
 ],
 "metadata": {
  "kernelspec": {
   "display_name": "Python 3",
   "language": "python",
   "name": "python3"
  },
  "language_info": {
   "codemirror_mode": {
    "name": "ipython",
    "version": 3
   },
   "file_extension": ".py",
   "mimetype": "text/x-python",
   "name": "python",
   "nbconvert_exporter": "python",
   "pygments_lexer": "ipython3",
   "version": "3.7.0"
  }
 },
 "nbformat": 4,
 "nbformat_minor": 2
}
