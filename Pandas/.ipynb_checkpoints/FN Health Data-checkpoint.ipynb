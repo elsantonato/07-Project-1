{
 "cells": [
  {
   "cell_type": "code",
   "execution_count": 13,
   "metadata": {},
   "outputs": [
    {
     "data": {
      "text/plain": [
       "Index(['REF_DATE', 'GEO', 'DGUID', 'Sex', 'Aboriginal identity', 'Indicators',\n",
       "       'Characteristics', 'UOM', 'UOM_ID', 'SCALAR_FACTOR', 'SCALAR_ID',\n",
       "       'VECTOR', 'COORDINATE', 'VALUE', 'STATUS', 'SYMBOL', 'TERMINATED',\n",
       "       'DECIMALS'],\n",
       "      dtype='object')"
      ]
     },
     "execution_count": 13,
     "metadata": {},
     "output_type": "execute_result"
    }
   ],
   "source": [
    "import pandas as pd\n",
    "import matplotlib.pyplot as plt\n",
    "\n",
    "% matplotlib inline\n",
    "\n",
    "health_df = pd.read_csv('../API/Resources/Health Indicators - 13100458-eng/13100458.csv')\n",
    "#health_df.head()\n",
    "health_df.columns"
   ]
  },
  {
   "cell_type": "code",
   "execution_count": 14,
   "metadata": {},
   "outputs": [
    {
     "data": {
      "text/html": [
       "<div>\n",
       "<style scoped>\n",
       "    .dataframe tbody tr th:only-of-type {\n",
       "        vertical-align: middle;\n",
       "    }\n",
       "\n",
       "    .dataframe tbody tr th {\n",
       "        vertical-align: top;\n",
       "    }\n",
       "\n",
       "    .dataframe thead th {\n",
       "        text-align: right;\n",
       "    }\n",
       "</style>\n",
       "<table border=\"1\" class=\"dataframe\">\n",
       "  <thead>\n",
       "    <tr style=\"text-align: right;\">\n",
       "      <th></th>\n",
       "      <th>REF_DATE</th>\n",
       "      <th>GEO</th>\n",
       "      <th>DGUID</th>\n",
       "      <th>Sex</th>\n",
       "      <th>Aboriginal identity</th>\n",
       "      <th>Indicators</th>\n",
       "      <th>Characteristics</th>\n",
       "      <th>UOM</th>\n",
       "      <th>UOM_ID</th>\n",
       "      <th>SCALAR_FACTOR</th>\n",
       "      <th>SCALAR_ID</th>\n",
       "      <th>VECTOR</th>\n",
       "      <th>COORDINATE</th>\n",
       "      <th>VALUE</th>\n",
       "      <th>STATUS</th>\n",
       "      <th>SYMBOL</th>\n",
       "      <th>TERMINATED</th>\n",
       "      <th>DECIMALS</th>\n",
       "    </tr>\n",
       "  </thead>\n",
       "  <tbody>\n",
       "    <tr>\n",
       "      <th>0</th>\n",
       "      <td>2007/2010</td>\n",
       "      <td>Canada</td>\n",
       "      <td>NaN</td>\n",
       "      <td>Both sexes</td>\n",
       "      <td>Total population</td>\n",
       "      <td>Arthritis</td>\n",
       "      <td>Age-standardized rate</td>\n",
       "      <td>Rate</td>\n",
       "      <td>257</td>\n",
       "      <td>units</td>\n",
       "      <td>0</td>\n",
       "      <td>v65335813</td>\n",
       "      <td>1.1.1.1.1</td>\n",
       "      <td>12.1</td>\n",
       "      <td>NaN</td>\n",
       "      <td>NaN</td>\n",
       "      <td>NaN</td>\n",
       "      <td>1</td>\n",
       "    </tr>\n",
       "    <tr>\n",
       "      <th>1</th>\n",
       "      <td>2007/2010</td>\n",
       "      <td>Canada</td>\n",
       "      <td>NaN</td>\n",
       "      <td>Both sexes</td>\n",
       "      <td>Total population</td>\n",
       "      <td>Arthritis</td>\n",
       "      <td>Low 95% confidence interval, age-standardized ...</td>\n",
       "      <td>Rate</td>\n",
       "      <td>257</td>\n",
       "      <td>units</td>\n",
       "      <td>0</td>\n",
       "      <td>v65335814</td>\n",
       "      <td>1.1.1.1.2</td>\n",
       "      <td>12.0</td>\n",
       "      <td>NaN</td>\n",
       "      <td>NaN</td>\n",
       "      <td>NaN</td>\n",
       "      <td>1</td>\n",
       "    </tr>\n",
       "    <tr>\n",
       "      <th>2</th>\n",
       "      <td>2007/2010</td>\n",
       "      <td>Canada</td>\n",
       "      <td>NaN</td>\n",
       "      <td>Both sexes</td>\n",
       "      <td>Total population</td>\n",
       "      <td>Arthritis</td>\n",
       "      <td>High 95% confidence interval, age-standardized...</td>\n",
       "      <td>Rate</td>\n",
       "      <td>257</td>\n",
       "      <td>units</td>\n",
       "      <td>0</td>\n",
       "      <td>v65335815</td>\n",
       "      <td>1.1.1.1.3</td>\n",
       "      <td>12.3</td>\n",
       "      <td>NaN</td>\n",
       "      <td>NaN</td>\n",
       "      <td>NaN</td>\n",
       "      <td>1</td>\n",
       "    </tr>\n",
       "    <tr>\n",
       "      <th>3</th>\n",
       "      <td>2007/2010</td>\n",
       "      <td>Canada</td>\n",
       "      <td>NaN</td>\n",
       "      <td>Both sexes</td>\n",
       "      <td>Total population</td>\n",
       "      <td>Arthritis</td>\n",
       "      <td>Coefficient of variation for age-standardized ...</td>\n",
       "      <td>Rate</td>\n",
       "      <td>257</td>\n",
       "      <td>units</td>\n",
       "      <td>0</td>\n",
       "      <td>v65335816</td>\n",
       "      <td>1.1.1.1.4</td>\n",
       "      <td>0.7</td>\n",
       "      <td>NaN</td>\n",
       "      <td>NaN</td>\n",
       "      <td>NaN</td>\n",
       "      <td>1</td>\n",
       "    </tr>\n",
       "    <tr>\n",
       "      <th>4</th>\n",
       "      <td>2007/2010</td>\n",
       "      <td>Canada</td>\n",
       "      <td>NaN</td>\n",
       "      <td>Both sexes</td>\n",
       "      <td>Total population</td>\n",
       "      <td>Asthma</td>\n",
       "      <td>Age-standardized rate</td>\n",
       "      <td>Rate</td>\n",
       "      <td>257</td>\n",
       "      <td>units</td>\n",
       "      <td>0</td>\n",
       "      <td>v65335833</td>\n",
       "      <td>1.1.1.2.1</td>\n",
       "      <td>8.7</td>\n",
       "      <td>NaN</td>\n",
       "      <td>NaN</td>\n",
       "      <td>NaN</td>\n",
       "      <td>1</td>\n",
       "    </tr>\n",
       "  </tbody>\n",
       "</table>\n",
       "</div>"
      ],
      "text/plain": [
       "    REF_DATE     GEO  DGUID         Sex Aboriginal identity Indicators  \\\n",
       "0  2007/2010  Canada    NaN  Both sexes    Total population  Arthritis   \n",
       "1  2007/2010  Canada    NaN  Both sexes    Total population  Arthritis   \n",
       "2  2007/2010  Canada    NaN  Both sexes    Total population  Arthritis   \n",
       "3  2007/2010  Canada    NaN  Both sexes    Total population  Arthritis   \n",
       "4  2007/2010  Canada    NaN  Both sexes    Total population     Asthma   \n",
       "\n",
       "                                     Characteristics   UOM  UOM_ID  \\\n",
       "0                              Age-standardized rate  Rate     257   \n",
       "1  Low 95% confidence interval, age-standardized ...  Rate     257   \n",
       "2  High 95% confidence interval, age-standardized...  Rate     257   \n",
       "3  Coefficient of variation for age-standardized ...  Rate     257   \n",
       "4                              Age-standardized rate  Rate     257   \n",
       "\n",
       "  SCALAR_FACTOR  SCALAR_ID     VECTOR COORDINATE  VALUE STATUS  SYMBOL  \\\n",
       "0        units           0  v65335813  1.1.1.1.1   12.1    NaN     NaN   \n",
       "1        units           0  v65335814  1.1.1.1.2   12.0    NaN     NaN   \n",
       "2        units           0  v65335815  1.1.1.1.3   12.3    NaN     NaN   \n",
       "3        units           0  v65335816  1.1.1.1.4    0.7    NaN     NaN   \n",
       "4        units           0  v65335833  1.1.1.2.1    8.7    NaN     NaN   \n",
       "\n",
       "   TERMINATED  DECIMALS  \n",
       "0         NaN         1  \n",
       "1         NaN         1  \n",
       "2         NaN         1  \n",
       "3         NaN         1  \n",
       "4         NaN         1  "
      ]
     },
     "execution_count": 14,
     "metadata": {},
     "output_type": "execute_result"
    }
   ],
   "source": [
    "health_df.head()"
   ]
  },
  {
   "cell_type": "code",
   "execution_count": 15,
   "metadata": {},
   "outputs": [],
   "source": [
    "# Create a new table that takes the Aboriginal Identity data and all the columns relating to geo and health\n",
    "health_indicators_table = health_df[[\"REF_DATE\", \"GEO\", \"Sex\", \n",
    "                                     \"Aboriginal identity\", \"Indicators\", \"Characteristics\", \"VALUE\"]]"
   ]
  },
  {
   "cell_type": "code",
   "execution_count": 16,
   "metadata": {},
   "outputs": [
    {
     "data": {
      "text/html": [
       "<div>\n",
       "<style scoped>\n",
       "    .dataframe tbody tr th:only-of-type {\n",
       "        vertical-align: middle;\n",
       "    }\n",
       "\n",
       "    .dataframe tbody tr th {\n",
       "        vertical-align: top;\n",
       "    }\n",
       "\n",
       "    .dataframe thead th {\n",
       "        text-align: right;\n",
       "    }\n",
       "</style>\n",
       "<table border=\"1\" class=\"dataframe\">\n",
       "  <thead>\n",
       "    <tr style=\"text-align: right;\">\n",
       "      <th>Aboriginal identity</th>\n",
       "      <th>REF_DATE</th>\n",
       "      <th>GEO</th>\n",
       "      <th>Sex</th>\n",
       "      <th>Indicators</th>\n",
       "      <th>First Nations</th>\n",
       "      <th>Inuit</th>\n",
       "      <th>Métis</th>\n",
       "      <th>Non-Aboriginal identity population</th>\n",
       "      <th>Total population</th>\n",
       "    </tr>\n",
       "  </thead>\n",
       "  <tbody>\n",
       "    <tr>\n",
       "      <th>0</th>\n",
       "      <td>2007/2010</td>\n",
       "      <td>Alberta</td>\n",
       "      <td>Both sexes</td>\n",
       "      <td>5 or more drinks on one occasion, at least onc...</td>\n",
       "      <td>32.1</td>\n",
       "      <td>NaN</td>\n",
       "      <td>31.9</td>\n",
       "      <td>19.9</td>\n",
       "      <td>20.6</td>\n",
       "    </tr>\n",
       "    <tr>\n",
       "      <th>1</th>\n",
       "      <td>2007/2010</td>\n",
       "      <td>Alberta</td>\n",
       "      <td>Both sexes</td>\n",
       "      <td>Arthritis</td>\n",
       "      <td>10.8</td>\n",
       "      <td>NaN</td>\n",
       "      <td>10.8</td>\n",
       "      <td>11.4</td>\n",
       "      <td>11.3</td>\n",
       "    </tr>\n",
       "    <tr>\n",
       "      <th>2</th>\n",
       "      <td>2007/2010</td>\n",
       "      <td>Alberta</td>\n",
       "      <td>Both sexes</td>\n",
       "      <td>Asthma</td>\n",
       "      <td>15.7</td>\n",
       "      <td>NaN</td>\n",
       "      <td>11.1</td>\n",
       "      <td>9.1</td>\n",
       "      <td>9.3</td>\n",
       "    </tr>\n",
       "    <tr>\n",
       "      <th>3</th>\n",
       "      <td>2007/2010</td>\n",
       "      <td>Alberta</td>\n",
       "      <td>Both sexes</td>\n",
       "      <td>Body mass index, self-reported, adult (18 year...</td>\n",
       "      <td>33.5</td>\n",
       "      <td>NaN</td>\n",
       "      <td>24.9</td>\n",
       "      <td>16.9</td>\n",
       "      <td>17.5</td>\n",
       "    </tr>\n",
       "    <tr>\n",
       "      <th>4</th>\n",
       "      <td>2007/2010</td>\n",
       "      <td>Alberta</td>\n",
       "      <td>Both sexes</td>\n",
       "      <td>Body mass index, self-reported, adult (18 year...</td>\n",
       "      <td>16.9</td>\n",
       "      <td>NaN</td>\n",
       "      <td>27.5</td>\n",
       "      <td>32.8</td>\n",
       "      <td>32.4</td>\n",
       "    </tr>\n",
       "  </tbody>\n",
       "</table>\n",
       "</div>"
      ],
      "text/plain": [
       "Aboriginal identity   REF_DATE      GEO         Sex  \\\n",
       "0                    2007/2010  Alberta  Both sexes   \n",
       "1                    2007/2010  Alberta  Both sexes   \n",
       "2                    2007/2010  Alberta  Both sexes   \n",
       "3                    2007/2010  Alberta  Both sexes   \n",
       "4                    2007/2010  Alberta  Both sexes   \n",
       "\n",
       "Aboriginal identity                                         Indicators  \\\n",
       "0                    5 or more drinks on one occasion, at least onc...   \n",
       "1                                                            Arthritis   \n",
       "2                                                               Asthma   \n",
       "3                    Body mass index, self-reported, adult (18 year...   \n",
       "4                    Body mass index, self-reported, adult (18 year...   \n",
       "\n",
       "Aboriginal identity  First Nations  Inuit  Métis  \\\n",
       "0                             32.1    NaN   31.9   \n",
       "1                             10.8    NaN   10.8   \n",
       "2                             15.7    NaN   11.1   \n",
       "3                             33.5    NaN   24.9   \n",
       "4                             16.9    NaN   27.5   \n",
       "\n",
       "Aboriginal identity  Non-Aboriginal identity population  Total population  \n",
       "0                                                  19.9              20.6  \n",
       "1                                                  11.4              11.3  \n",
       "2                                                   9.1               9.3  \n",
       "3                                                  16.9              17.5  \n",
       "4                                                  32.8              32.4  "
      ]
     },
     "execution_count": 16,
     "metadata": {},
     "output_type": "execute_result"
    }
   ],
   "source": [
    "health_indicators_table.head()\n",
    "\n",
    "# Create a pivot table to isolate health indicators between First Nations, Inuit, Métis, and Non-Aboriginal identities\n",
    "First_Nations_df = health_indicators_table.loc[health_indicators_table[\"Characteristics\"] == 'Age-standardized rate']\n",
    "pivoted_df = First_Nations_df.pivot_table(index=[\"REF_DATE\",  \"GEO\", \"Sex\",\"Indicators\"], columns=\"Aboriginal identity\", values=\"VALUE\").reset_index()\n",
    "pivoted_df.head()"
   ]
  },
  {
   "cell_type": "code",
   "execution_count": 18,
   "metadata": {},
   "outputs": [
    {
     "data": {
      "text/plain": [
       "array(['Total population', 'First Nations', 'Métis', 'Inuit',\n",
       "       'Non-Aboriginal identity population'], dtype=object)"
      ]
     },
     "execution_count": 18,
     "metadata": {},
     "output_type": "execute_result"
    }
   ],
   "source": [
    "health_indicators_table[\"Aboriginal identity\"].unique()"
   ]
  },
  {
   "cell_type": "code",
   "execution_count": 19,
   "metadata": {},
   "outputs": [
    {
     "data": {
      "text/plain": [
       "array(['Canada', 'Newfoundland and Labrador', 'Prince Edward Island',\n",
       "       'Nova Scotia', 'New Brunswick', 'Quebec', 'Ontario', 'Manitoba',\n",
       "       'Saskatchewan', 'Alberta', 'British Columbia', 'Yukon',\n",
       "       'Northwest Territories', 'Nunavut'], dtype=object)"
      ]
     },
     "execution_count": 19,
     "metadata": {},
     "output_type": "execute_result"
    }
   ],
   "source": [
    "health_indicators_table[\"GEO\"].unique()"
   ]
  },
  {
   "cell_type": "code",
   "execution_count": 20,
   "metadata": {},
   "outputs": [],
   "source": [
    "#health_indicators_table[\"Indicators\"].unique()"
   ]
  },
  {
   "cell_type": "code",
   "execution_count": 21,
   "metadata": {},
   "outputs": [
    {
     "data": {
      "text/plain": [
       "array(['Age-standardized rate',\n",
       "       'Low 95% confidence interval, age-standardized rate',\n",
       "       'High 95% confidence interval, age-standardized rate',\n",
       "       'Coefficient of variation for age-standardized rate'], dtype=object)"
      ]
     },
     "execution_count": 21,
     "metadata": {},
     "output_type": "execute_result"
    }
   ],
   "source": [
    "health_indicators_table[\"Characteristics\"].unique()"
   ]
  },
  {
   "cell_type": "code",
   "execution_count": 27,
   "metadata": {},
   "outputs": [],
   "source": [
    "#health_indicators_table[\"Indicators\"] = \"5 or more drinks on one occasion, at least once a month in the past year\""
   ]
  },
  {
   "cell_type": "code",
   "execution_count": null,
   "metadata": {},
   "outputs": [],
   "source": []
  },
  {
   "cell_type": "code",
   "execution_count": null,
   "metadata": {},
   "outputs": [],
   "source": []
  }
 ],
 "metadata": {
  "kernelspec": {
   "display_name": "Python 3",
   "language": "python",
   "name": "python3"
  },
  "language_info": {
   "codemirror_mode": {
    "name": "ipython",
    "version": 3
   },
   "file_extension": ".py",
   "mimetype": "text/x-python",
   "name": "python",
   "nbconvert_exporter": "python",
   "pygments_lexer": "ipython3",
   "version": "3.7.0"
  }
 },
 "nbformat": 4,
 "nbformat_minor": 2
}
